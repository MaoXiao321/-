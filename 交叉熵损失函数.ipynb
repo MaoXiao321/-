{
 "cells": [
  {
   "cell_type": "code",
   "execution_count": 16,
   "id": "e5d140ef-4918-4387-8804-752e737f5010",
   "metadata": {},
   "outputs": [],
   "source": [
    "import numpy as np\n",
    "import pandas as pd\n",
    "import matplotlib.pyplot as plt\n",
    "%matplotlib inline"
   ]
  },
  {
   "cell_type": "markdown",
   "id": "1701159a-1a42-4f8a-a01d-223c853c69d6",
   "metadata": {},
   "source": [
    "交叉熵-信息熵=相对熵，相对熵>0，越小越好，信息熵对于给定的数据来讲是定值，因此需要交叉熵越小越好"
   ]
  },
  {
   "cell_type": "code",
   "execution_count": 8,
   "id": "592854b9-a1db-4ab9-908b-b4fe44a2a563",
   "metadata": {},
   "outputs": [],
   "source": [
    "def entropy(p):\n",
    "    \"\"\"二分类信息熵\"\"\"\n",
    "    if p==0 or p==1:\n",
    "        ent = 0\n",
    "    else:\n",
    "        ent = -(p*np.log2(p)+(1-p)*np.log2(1-p))\n",
    "    return ent"
   ]
  },
  {
   "cell_type": "code",
   "execution_count": 28,
   "id": "d9671d41-403c-47d0-91b0-88eb30f4a402",
   "metadata": {},
   "outputs": [],
   "source": [
    "def BCE(y,yhat):\n",
    "    \"\"\"二分类交叉熵损失函数\"\"\"\n",
    "    # return -(1/len(y) * np.sum(y*np.log2(yhat)+(1-y)*np.log2(1-yhat))) # 多样本交叉熵\n",
    "    return -np.sum(y*np.log(yhat)+(1-y)*np.log(1-yhat)) # 极大似然估计"
   ]
  },
  {
   "cell_type": "code",
   "execution_count": 21,
   "id": "e9421bec-8fc3-46ec-92c8-55db1cffdce9",
   "metadata": {},
   "outputs": [
    {
     "data": {
      "text/plain": [
       "array([[1],\n",
       "       [0],\n",
       "       [0],\n",
       "       [1]])"
      ]
     },
     "metadata": {},
     "output_type": "display_data"
    },
    {
     "data": {
      "text/plain": [
       "array([[0.8],\n",
       "       [0.3],\n",
       "       [0.4],\n",
       "       [0.7]])"
      ]
     },
     "metadata": {},
     "output_type": "display_data"
    }
   ],
   "source": [
    "y = np.array([1,0,0,1]).reshape(-1,1)\n",
    "yhat = np.array([0.8,0.3,0.4,0.7]).reshape(-1,1)\n",
    "display(y,yhat)"
   ]
  },
  {
   "cell_type": "code",
   "execution_count": 22,
   "id": "e07c57ce-b86c-4f96-897a-0994fe9448d9",
   "metadata": {},
   "outputs": [
    {
     "data": {
      "text/plain": [
       "1.0"
      ]
     },
     "execution_count": 22,
     "metadata": {},
     "output_type": "execute_result"
    }
   ],
   "source": [
    "entropy(1/2)"
   ]
  },
  {
   "cell_type": "code",
   "execution_count": 10,
   "id": "c62fe750-f6b4-4530-ade5-d3befe1004d7",
   "metadata": {},
   "outputs": [
    {
     "data": {
      "text/plain": [
       "0"
      ]
     },
     "execution_count": 10,
     "metadata": {},
     "output_type": "execute_result"
    }
   ],
   "source": [
    "entropy(0)"
   ]
  },
  {
   "cell_type": "code",
   "execution_count": 29,
   "id": "93c4f6e6-a42c-426c-b5db-800be1393e53",
   "metadata": {},
   "outputs": [
    {
     "data": {
      "text/plain": [
       "1.4473190629576653"
      ]
     },
     "execution_count": 29,
     "metadata": {},
     "output_type": "execute_result"
    }
   ],
   "source": [
    "BCE(y,yhat)"
   ]
  },
  {
   "cell_type": "code",
   "execution_count": 30,
   "id": "c0c479b8-d1b3-422c-9863-c1e4247733d1",
   "metadata": {},
   "outputs": [
    {
     "data": {
      "text/plain": [
       "Text(0, 0.5, 'Entropy')"
      ]
     },
     "execution_count": 30,
     "metadata": {},
     "output_type": "execute_result"
    },
    {
     "data": {
      "image/png": "[encoded data removed]",
      "text/plain": [
       "<Figure size 432x288 with 1 Axes>"
      ]
     },
     "metadata": {
      "needs_background": "light"
     },
     "output_type": "display_data"
    }
   ],
   "source": [
    "p = np.linspace(0,1,50)\n",
    "ent_ls = [entropy(x) for x in p]\n",
    "\n",
    "# 标签取值纯度越高，信息熵较低\n",
    "plt.plot(p,ent_ls)\n",
    "plt.xlabel('P')\n",
    "plt.ylabel('Entropy')"
   ]
  },
  {
   "cell_type": "code",
   "execution_count": null,
   "id": "afca9e76-2a16-41ac-aaad-7a002d2029b0",
   "metadata": {},
   "outputs": [],
   "source": []
  }
 ],
 "metadata": {
  "kernelspec": {
   "display_name": "Python 3 (ipykernel)",
   "language": "python",
   "name": "python3"
  },
  "language_info": {
   "codemirror_mode": {
    "name": "ipython",
    "version": 3
   },
   "file_extension": ".py",
   "mimetype": "text/x-python",
   "name": "python",
   "nbconvert_exporter": "python",
   "pygments_lexer": "ipython3",
   "version": "3.9.10"
  }
 },
 "nbformat": 4,
 "nbformat_minor": 5
}
